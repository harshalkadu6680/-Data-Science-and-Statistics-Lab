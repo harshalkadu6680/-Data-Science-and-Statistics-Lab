{
 "cells": [
  {
   "cell_type": "markdown",
   "id": "61c0f79e",
   "metadata": {},
   "source": [
    "# Central Tendency of Measures."
   ]
  },
  {
   "cell_type": "code",
   "execution_count": 2,
   "id": "bfc2ec3a",
   "metadata": {},
   "outputs": [],
   "source": [
    "#Experiment no:-02"
   ]
  },
  {
   "cell_type": "code",
   "execution_count": 3,
   "id": "3c5e958a",
   "metadata": {},
   "outputs": [],
   "source": [
    "#Aim:- Central Tendency of Measures"
   ]
  },
  {
   "cell_type": "code",
   "execution_count": 4,
   "id": "5ab2f7ef",
   "metadata": {},
   "outputs": [],
   "source": [
    "#Name:Harshal S Kadu\n",
    "#Roll no:27\n",
    "#sec:3A\n",
    "#Subjict:ET1\n",
    "#Date:04/08/25"
   ]
  },
  {
   "cell_type": "code",
   "execution_count": 5,
   "id": "d07eadc6",
   "metadata": {},
   "outputs": [],
   "source": [
    "age=[21,20,23,22,20,21,20,21,22,23,21]"
   ]
  },
  {
   "cell_type": "code",
   "execution_count": 6,
   "id": "c68dac15",
   "metadata": {},
   "outputs": [
    {
     "name": "stdout",
     "output_type": "stream",
     "text": [
      "[21, 20, 23, 22, 20, 21, 20, 21, 22, 23, 21]\n"
     ]
    }
   ],
   "source": [
    "print(age)"
   ]
  },
  {
   "cell_type": "code",
   "execution_count": 7,
   "id": "b5d30b4a",
   "metadata": {},
   "outputs": [
    {
     "data": {
      "text/plain": [
       "[21, 20, 23, 22, 20, 21, 20, 21, 22, 23, 21]"
      ]
     },
     "execution_count": 7,
     "metadata": {},
     "output_type": "execute_result"
    }
   ],
   "source": [
    "age\n"
   ]
  },
  {
   "cell_type": "code",
   "execution_count": 8,
   "id": "4fb3f887",
   "metadata": {},
   "outputs": [],
   "source": [
    "import statistics as stats"
   ]
  },
  {
   "cell_type": "code",
   "execution_count": 9,
   "id": "7d8209ad",
   "metadata": {},
   "outputs": [],
   "source": [
    "Mean=stats.mean(age)\n"
   ]
  },
  {
   "cell_type": "code",
   "execution_count": 10,
   "id": "ba79fc46",
   "metadata": {},
   "outputs": [
    {
     "data": {
      "text/plain": [
       "21.272727272727273"
      ]
     },
     "execution_count": 10,
     "metadata": {},
     "output_type": "execute_result"
    }
   ],
   "source": [
    "Mean"
   ]
  },
  {
   "cell_type": "code",
   "execution_count": 11,
   "id": "aaa0eada",
   "metadata": {},
   "outputs": [],
   "source": [
    "Median=stats.mean(age)"
   ]
  },
  {
   "cell_type": "code",
   "execution_count": 12,
   "id": "8c9b5244",
   "metadata": {},
   "outputs": [
    {
     "data": {
      "text/plain": [
       "21.272727272727273"
      ]
     },
     "execution_count": 12,
     "metadata": {},
     "output_type": "execute_result"
    }
   ],
   "source": [
    "Median"
   ]
  },
  {
   "cell_type": "code",
   "execution_count": 13,
   "id": "34f50587",
   "metadata": {},
   "outputs": [],
   "source": [
    "Mode=stats.mean(age)"
   ]
  },
  {
   "cell_type": "code",
   "execution_count": 14,
   "id": "a1256a2e",
   "metadata": {},
   "outputs": [
    {
     "data": {
      "text/plain": [
       "21.272727272727273"
      ]
     },
     "execution_count": 14,
     "metadata": {},
     "output_type": "execute_result"
    }
   ],
   "source": [
    "Mode"
   ]
  },
  {
   "cell_type": "code",
   "execution_count": 15,
   "id": "6884f7a9",
   "metadata": {},
   "outputs": [],
   "source": [
    "variance=stats.variance(age)"
   ]
  },
  {
   "cell_type": "code",
   "execution_count": 16,
   "id": "191a6c77",
   "metadata": {},
   "outputs": [
    {
     "data": {
      "text/plain": [
       "1.2181818181818183"
      ]
     },
     "execution_count": 16,
     "metadata": {},
     "output_type": "execute_result"
    }
   ],
   "source": [
    "variance"
   ]
  },
  {
   "cell_type": "code",
   "execution_count": 17,
   "id": "1b8aea9a",
   "metadata": {},
   "outputs": [],
   "source": [
    "import numpy as np\n",
    "x=np.array([1,2,3,4,5,6,7,8,4,3,2])"
   ]
  },
  {
   "cell_type": "code",
   "execution_count": 18,
   "id": "3ae3b467",
   "metadata": {},
   "outputs": [
    {
     "data": {
      "text/plain": [
       "array([1, 2, 3, 4, 5, 6, 7, 8, 4, 3, 2])"
      ]
     },
     "execution_count": 18,
     "metadata": {},
     "output_type": "execute_result"
    }
   ],
   "source": [
    "x"
   ]
  },
  {
   "cell_type": "code",
   "execution_count": 19,
   "id": "2ad65bfc",
   "metadata": {},
   "outputs": [
    {
     "name": "stdout",
     "output_type": "stream",
     "text": [
      "4.090909090909091\n"
     ]
    }
   ],
   "source": [
    "print(np.mean(x))"
   ]
  },
  {
   "cell_type": "code",
   "execution_count": 20,
   "id": "d7fd41b5",
   "metadata": {},
   "outputs": [
    {
     "name": "stdout",
     "output_type": "stream",
     "text": [
      "4.0\n"
     ]
    }
   ],
   "source": [
    "print(np.median(x))"
   ]
  },
  {
   "cell_type": "code",
   "execution_count": 21,
   "id": "b41d92ca",
   "metadata": {},
   "outputs": [],
   "source": [
    "from scipy import stats"
   ]
  },
  {
   "cell_type": "code",
   "execution_count": 22,
   "id": "f21b5684",
   "metadata": {},
   "outputs": [
    {
     "name": "stdout",
     "output_type": "stream",
     "text": [
      "ModeResult(mode=array([2]), count=array([2]))\n"
     ]
    }
   ],
   "source": [
    "print(stats.mode(x))"
   ]
  },
  {
   "cell_type": "code",
   "execution_count": 23,
   "id": "492e0ce9",
   "metadata": {},
   "outputs": [
    {
     "name": "stdout",
     "output_type": "stream",
     "text": [
      "2.108620637226037\n"
     ]
    }
   ],
   "source": [
    "print(np.std(x))"
   ]
  },
  {
   "cell_type": "code",
   "execution_count": 24,
   "id": "cc6ab43a",
   "metadata": {},
   "outputs": [
    {
     "name": "stdout",
     "output_type": "stream",
     "text": [
      "4.446280991735538\n"
     ]
    }
   ],
   "source": [
    "print(np.var(x))"
   ]
  },
  {
   "cell_type": "markdown",
   "id": "8c26eac9",
   "metadata": {},
   "source": [
    "# CONCLUSION"
   ]
  },
  {
   "cell_type": "code",
   "execution_count": null,
   "id": "e82a62f7",
   "metadata": {},
   "outputs": [],
   "source": [
    "#In this experiment, we successfully learned how to use NumPy (Numerical Python) \n",
    "for performing various mathematical and statistical operations on numerical data."
   ]
  }
 ],
 "metadata": {
  "kernelspec": {
   "display_name": "Python 3 (ipykernel)",
   "language": "python",
   "name": "python3"
  },
  "language_info": {
   "codemirror_mode": {
    "name": "ipython",
    "version": 3
   },
   "file_extension": ".py",
   "mimetype": "text/x-python",
   "name": "python",
   "nbconvert_exporter": "python",
   "pygments_lexer": "ipython3",
   "version": "3.9.7"
  }
 },
 "nbformat": 4,
 "nbformat_minor": 5
}
